{
 "cells": [
  {
   "cell_type": "markdown",
   "id": "accf376f",
   "metadata": {},
   "source": [
    "# TalkScriber TTS usage\n",
    "\n",
    "This is a simple example of how to use the TalkScriber TTS service. First, we need to install the lightweight requirements. Once installed, you can generate high-quality audio using your API key."
   ]
  },
  {
   "cell_type": "code",
   "execution_count": null,
   "id": "a0d6e19c",
   "metadata": {},
   "outputs": [],
   "source": [
    "%pip install -r requirements.txt"
   ]
  },
  {
   "cell_type": "markdown",
   "id": "a4da5e0a",
   "metadata": {},
   "source": [
    "Please ensure you have a valid API key. Refer to https://docs.talkscriber.com/docs/quick-start for setup instructions. If you already have an API key, simply fill it in the code below and you're ready to go"
   ]
  },
  {
   "cell_type": "code",
   "execution_count": null,
   "id": "2db92ee2",
   "metadata": {},
   "outputs": [],
   "source": [
    "from loguru import logger\n",
    "from client.tts_client import TalkScriberTTSClient\n",
    "\n",
    "api_key = \"\"\n",
    "if api_key == \"\":\n",
    "    logger.error(\"API key is not set\")\n",
    "    exit()\n",
    "\n",
    "client = TalkScriberTTSClient(\n",
    "    enable_playback=False,  # Enable real-time audio playback\n",
    "    api_key=api_key, \n",
    "    text=\"Hello, This is TalkScriber Agent. I'm calling to book an appointment for my patient.\",\n",
    "    speaker_name=\"tara\"\n",
    ")\n",
    "\n",
    "success = client.run_simple_test()\n",
    "\n",
    "if success:\n",
    "    logger.info(\"Interactive session completed successfully\")\n",
    "else:\n",
    "    logger.error(\"Interactive session failed\")"
   ]
  },
  {
   "cell_type": "code",
   "execution_count": null,
   "id": "7bae3cbf",
   "metadata": {},
   "outputs": [],
   "source": [
    "import io\n",
    "import wave\n",
    "from IPython.display import Audio, display\n",
    "\n",
    "if success:\n",
    "    # Get the audio data\n",
    "    raw_audio = client.get_stored_audio_data()\n",
    "    info = client.get_audio_info()\n",
    "    \n",
    "    print(f\"Raw audio size: {len(raw_audio)} bytes\")\n",
    "    print(f\"Audio duration: {info['duration_seconds']:.2f} seconds\")\n",
    "    \n",
    "    # Create and play the audio\n",
    "    wav_buffer = io.BytesIO()\n",
    "    \n",
    "    with wave.open(wav_buffer, 'wb') as wav_file:\n",
    "        wav_file.setnchannels(info['channels'])\n",
    "        wav_file.setsampwidth(info['bits_per_sample'] // 8)\n",
    "        wav_file.setframerate(info['sample_rate'])\n",
    "        wav_file.writeframes(raw_audio)\n",
    "    \n",
    "    wav_buffer.seek(0)\n",
    "    wav_data = wav_buffer.read()\n",
    "    \n",
    "    # Display the audio player\n",
    "    audio_player = Audio(data=wav_data, rate=info['sample_rate'], autoplay=False)\n",
    "    display(audio_player)\n",
    "else:\n",
    "    print(\"TTS generation failed\")"
   ]
  }
 ],
 "metadata": {
  "kernelspec": {
   "display_name": "base",
   "language": "python",
   "name": "python3"
  },
  "language_info": {
   "codemirror_mode": {
    "name": "ipython",
    "version": 3
   },
   "file_extension": ".py",
   "mimetype": "text/x-python",
   "name": "python",
   "nbconvert_exporter": "python",
   "pygments_lexer": "ipython3",
   "version": "3.12.2"
  }
 },
 "nbformat": 4,
 "nbformat_minor": 5
}
